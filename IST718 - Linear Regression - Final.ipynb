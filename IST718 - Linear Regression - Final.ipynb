{
 "cells": [
  {
   "cell_type": "markdown",
   "metadata": {},
   "source": [
    "### IST718 - Project - Linear Regression"
   ]
  },
  {
   "cell_type": "code",
   "execution_count": 6,
   "metadata": {
    "collapsed": true
   },
   "outputs": [],
   "source": [
    "# Intial Check\n",
    "import numpy as np\n",
    "import pandas as pd"
   ]
  },
  {
   "cell_type": "code",
   "execution_count": 7,
   "metadata": {
    "collapsed": true
   },
   "outputs": [],
   "source": [
    "# read the file (.csv file) with the help of pandas\n",
    "refugee = pd.read_csv(\"UNdata_Export_20161102_000521483.csv\")"
   ]
  },
  {
   "cell_type": "code",
   "execution_count": 8,
   "metadata": {
    "collapsed": true
   },
   "outputs": [],
   "source": [
    "# rename the columns of the dataframe\n",
    "refugee.columns = ['Country_Residence','Country_Origin','Year','Refugees','Refugees_UNHCR',\\\n",
    "                   'Total_Refugees', 'Total_Refugess_UNHCR']"
   ]
  },
  {
   "cell_type": "code",
   "execution_count": 9,
   "metadata": {
    "collapsed": true
   },
   "outputs": [],
   "source": [
    "# calculate the count of number of transactions with respect to years\n",
    "refugee_by_year = pd.DataFrame(refugee['Refugees'].groupby(refugee.Year).agg('sum'))\n",
    "refugee_by_year.index\n",
    "refugee_by_year.columns = ['Sum']\n",
    "\n",
    "# extracting values from the series\n",
    "year = pd.Series(refugee_by_year.index.values)\n",
    "count = pd.Series(refugee_by_year.Sum.values)"
   ]
  },
  {
   "cell_type": "code",
   "execution_count": 10,
   "metadata": {
    "collapsed": true
   },
   "outputs": [],
   "source": [
    "refugee_df = pd.DataFrame(year, columns=['year'])\n",
    "refugee_df['Sum'] = count"
   ]
  },
  {
   "cell_type": "code",
   "execution_count": 11,
   "metadata": {
    "collapsed": false
   },
   "outputs": [
    {
     "data": {
      "text/html": [
       "<div>\n",
       "<table border=\"1\" class=\"dataframe\">\n",
       "  <thead>\n",
       "    <tr style=\"text-align: right;\">\n",
       "      <th></th>\n",
       "      <th>year</th>\n",
       "      <th>Sum</th>\n",
       "    </tr>\n",
       "  </thead>\n",
       "  <tbody>\n",
       "    <tr>\n",
       "      <th>0</th>\n",
       "      <td>1975.0</td>\n",
       "      <td>3529434.0</td>\n",
       "    </tr>\n",
       "    <tr>\n",
       "      <th>1</th>\n",
       "      <td>1976.0</td>\n",
       "      <td>4270631.0</td>\n",
       "    </tr>\n",
       "    <tr>\n",
       "      <th>2</th>\n",
       "      <td>1977.0</td>\n",
       "      <td>4518659.0</td>\n",
       "    </tr>\n",
       "    <tr>\n",
       "      <th>3</th>\n",
       "      <td>1978.0</td>\n",
       "      <td>5065844.0</td>\n",
       "    </tr>\n",
       "    <tr>\n",
       "      <th>4</th>\n",
       "      <td>1979.0</td>\n",
       "      <td>6279912.0</td>\n",
       "    </tr>\n",
       "  </tbody>\n",
       "</table>\n",
       "</div>"
      ],
      "text/plain": [
       "     year        Sum\n",
       "0  1975.0  3529434.0\n",
       "1  1976.0  4270631.0\n",
       "2  1977.0  4518659.0\n",
       "3  1978.0  5065844.0\n",
       "4  1979.0  6279912.0"
      ]
     },
     "execution_count": 11,
     "metadata": {},
     "output_type": "execute_result"
    }
   ],
   "source": [
    "# checking the dataframe with the help of head() function in pandas\n",
    "refugee_df.head()"
   ]
  },
  {
   "cell_type": "code",
   "execution_count": 12,
   "metadata": {
    "collapsed": true
   },
   "outputs": [],
   "source": [
    "# import the matplotlib for plotting\n",
    "%matplotlib inline\n",
    "import matplotlib as mpl\n",
    "import matplotlib.pyplot as plt"
   ]
  },
  {
   "cell_type": "code",
   "execution_count": 13,
   "metadata": {
    "collapsed": false
   },
   "outputs": [
    {
     "data": {
      "text/plain": [
       "<matplotlib.collections.PathCollection at 0x25a604ee0b8>"
      ]
     },
     "execution_count": 13,
     "metadata": {},
     "output_type": "execute_result"
    },
    {
     "data": {
      "image/png": "[encoded data removed]",
      "text/plain": [
       "<matplotlib.figure.Figure at 0x25a60120828>"
      ]
     },
     "metadata": {},
     "output_type": "display_data"
    }
   ],
   "source": [
    "# plot\n",
    "mpl.pyplot.scatter(refugee_df['year'], refugee_df['Sum'])"
   ]
  },
  {
   "cell_type": "code",
   "execution_count": 14,
   "metadata": {
    "collapsed": false
   },
   "outputs": [
    {
     "data": {
      "text/html": [
       "<div>\n",
       "<table border=\"1\" class=\"dataframe\">\n",
       "  <thead>\n",
       "    <tr style=\"text-align: right;\">\n",
       "      <th></th>\n",
       "      <th>Country_Residence</th>\n",
       "      <th>Country_Origin</th>\n",
       "      <th>Year</th>\n",
       "      <th>Refugees</th>\n",
       "      <th>Refugees_UNHCR</th>\n",
       "      <th>Total_Refugees</th>\n",
       "      <th>Total_Refugess_UNHCR</th>\n",
       "    </tr>\n",
       "  </thead>\n",
       "  <tbody>\n",
       "    <tr>\n",
       "      <th>0</th>\n",
       "      <td>Afghanistan</td>\n",
       "      <td>Iraq</td>\n",
       "      <td>2013.0</td>\n",
       "      <td>1.0</td>\n",
       "      <td>1.0</td>\n",
       "      <td>1.0</td>\n",
       "      <td>1.0</td>\n",
       "    </tr>\n",
       "    <tr>\n",
       "      <th>1</th>\n",
       "      <td>Afghanistan</td>\n",
       "      <td>Islamic Rep. of Iran</td>\n",
       "      <td>2013.0</td>\n",
       "      <td>36.0</td>\n",
       "      <td>36.0</td>\n",
       "      <td>36.0</td>\n",
       "      <td>36.0</td>\n",
       "    </tr>\n",
       "    <tr>\n",
       "      <th>2</th>\n",
       "      <td>Afghanistan</td>\n",
       "      <td>Pakistan</td>\n",
       "      <td>2013.0</td>\n",
       "      <td>34.0</td>\n",
       "      <td>34.0</td>\n",
       "      <td>16825.0</td>\n",
       "      <td>16825.0</td>\n",
       "    </tr>\n",
       "    <tr>\n",
       "      <th>3</th>\n",
       "      <td>Afghanistan</td>\n",
       "      <td>State of Palestine</td>\n",
       "      <td>2013.0</td>\n",
       "      <td>1.0</td>\n",
       "      <td>1.0</td>\n",
       "      <td>1.0</td>\n",
       "      <td>1.0</td>\n",
       "    </tr>\n",
       "    <tr>\n",
       "      <th>4</th>\n",
       "      <td>Albania</td>\n",
       "      <td>Algeria</td>\n",
       "      <td>2013.0</td>\n",
       "      <td>0.0</td>\n",
       "      <td>0.0</td>\n",
       "      <td>0.0</td>\n",
       "      <td>0.0</td>\n",
       "    </tr>\n",
       "  </tbody>\n",
       "</table>\n",
       "</div>"
      ],
      "text/plain": [
       "  Country_Residence        Country_Origin    Year  Refugees  Refugees_UNHCR  \\\n",
       "0       Afghanistan                  Iraq  2013.0       1.0             1.0   \n",
       "1       Afghanistan  Islamic Rep. of Iran  2013.0      36.0            36.0   \n",
       "2       Afghanistan              Pakistan  2013.0      34.0            34.0   \n",
       "3       Afghanistan    State of Palestine  2013.0       1.0             1.0   \n",
       "4           Albania               Algeria  2013.0       0.0             0.0   \n",
       "\n",
       "   Total_Refugees  Total_Refugess_UNHCR  \n",
       "0             1.0                   1.0  \n",
       "1            36.0                  36.0  \n",
       "2         16825.0               16825.0  \n",
       "3             1.0                   1.0  \n",
       "4             0.0                   0.0  "
      ]
     },
     "execution_count": 14,
     "metadata": {},
     "output_type": "execute_result"
    }
   ],
   "source": [
    "# countries with most number of outboud refugees\n",
    "refugee.head()"
   ]
  },
  {
   "cell_type": "code",
   "execution_count": 24,
   "metadata": {
    "collapsed": false
   },
   "outputs": [
    {
     "data": {
      "text/plain": [
       "2013.0    5271\n",
       "2012.0    5136\n",
       "2010.0    4888\n",
       "2011.0    4799\n",
       "2009.0    4791\n",
       "2008.0    4505\n",
       "2007.0    4380\n",
       "2006.0    4136\n",
       "2005.0    4043\n",
       "2004.0    3991\n",
       "2003.0    3820\n",
       "2002.0    3657\n",
       "2001.0    3382\n",
       "2000.0    3205\n",
       "1998.0    2900\n",
       "1997.0    2509\n",
       "1999.0    2391\n",
       "1996.0    2105\n",
       "1995.0    1801\n",
       "1994.0    1682\n",
       "1993.0    1438\n",
       "1992.0     782\n",
       "1991.0     652\n",
       "1990.0     579\n",
       "1989.0     458\n",
       "1988.0     387\n",
       "1985.0     309\n",
       "1986.0     288\n",
       "1987.0     286\n",
       "1984.0     274\n",
       "1983.0     263\n",
       "1982.0     259\n",
       "1981.0     213\n",
       "1980.0     202\n",
       "1979.0     159\n",
       "1978.0     149\n",
       "1977.0     127\n",
       "1975.0     108\n",
       "1976.0     103\n",
       "Name: Year, dtype: int64"
      ]
     },
     "execution_count": 24,
     "metadata": {},
     "output_type": "execute_result"
    }
   ],
   "source": [
    "## count\n",
    "refugee['Year'].value_counts()"
   ]
  },
  {
   "cell_type": "code",
   "execution_count": 15,
   "metadata": {
    "collapsed": false
   },
   "outputs": [],
   "source": [
    "# creating a subset of the dataframe related to country \"somalia\"\n",
    "somalia_df = refugee.loc[refugee['Country_Origin'] == \"Somalia\"]"
   ]
  },
  {
   "cell_type": "code",
   "execution_count": 16,
   "metadata": {
    "collapsed": false
   },
   "outputs": [
    {
     "data": {
      "text/html": [
       "<div>\n",
       "<table border=\"1\" class=\"dataframe\">\n",
       "  <thead>\n",
       "    <tr style=\"text-align: right;\">\n",
       "      <th></th>\n",
       "      <th>Country_Residence</th>\n",
       "      <th>Country_Origin</th>\n",
       "      <th>Year</th>\n",
       "      <th>Refugees</th>\n",
       "      <th>Refugees_UNHCR</th>\n",
       "      <th>Total_Refugees</th>\n",
       "      <th>Total_Refugess_UNHCR</th>\n",
       "    </tr>\n",
       "  </thead>\n",
       "  <tbody>\n",
       "    <tr>\n",
       "      <th>32</th>\n",
       "      <td>Algeria</td>\n",
       "      <td>Somalia</td>\n",
       "      <td>2013.0</td>\n",
       "      <td>4.0</td>\n",
       "      <td>4.0</td>\n",
       "      <td>4.0</td>\n",
       "      <td>4.0</td>\n",
       "    </tr>\n",
       "    <tr>\n",
       "      <th>54</th>\n",
       "      <td>Angola</td>\n",
       "      <td>Somalia</td>\n",
       "      <td>2013.0</td>\n",
       "      <td>215.0</td>\n",
       "      <td>30.0</td>\n",
       "      <td>215.0</td>\n",
       "      <td>30.0</td>\n",
       "    </tr>\n",
       "    <tr>\n",
       "      <th>123</th>\n",
       "      <td>Argentina</td>\n",
       "      <td>Somalia</td>\n",
       "      <td>2013.0</td>\n",
       "      <td>5.0</td>\n",
       "      <td>0.0</td>\n",
       "      <td>5.0</td>\n",
       "      <td>0.0</td>\n",
       "    </tr>\n",
       "    <tr>\n",
       "      <th>246</th>\n",
       "      <td>Australia</td>\n",
       "      <td>Somalia</td>\n",
       "      <td>2013.0</td>\n",
       "      <td>67.0</td>\n",
       "      <td>0.0</td>\n",
       "      <td>67.0</td>\n",
       "      <td>0.0</td>\n",
       "    </tr>\n",
       "    <tr>\n",
       "      <th>355</th>\n",
       "      <td>Austria</td>\n",
       "      <td>Somalia</td>\n",
       "      <td>2013.0</td>\n",
       "      <td>2278.0</td>\n",
       "      <td>0.0</td>\n",
       "      <td>2278.0</td>\n",
       "      <td>0.0</td>\n",
       "    </tr>\n",
       "  </tbody>\n",
       "</table>\n",
       "</div>"
      ],
      "text/plain": [
       "    Country_Residence Country_Origin    Year  Refugees  Refugees_UNHCR  \\\n",
       "32            Algeria        Somalia  2013.0       4.0             4.0   \n",
       "54             Angola        Somalia  2013.0     215.0            30.0   \n",
       "123         Argentina        Somalia  2013.0       5.0             0.0   \n",
       "246         Australia        Somalia  2013.0      67.0             0.0   \n",
       "355           Austria        Somalia  2013.0    2278.0             0.0   \n",
       "\n",
       "     Total_Refugees  Total_Refugess_UNHCR  \n",
       "32              4.0                   4.0  \n",
       "54            215.0                  30.0  \n",
       "123             5.0                   0.0  \n",
       "246            67.0                   0.0  \n",
       "355          2278.0                   0.0  "
      ]
     },
     "execution_count": 16,
     "metadata": {},
     "output_type": "execute_result"
    }
   ],
   "source": [
    "# check the header of the somalia dataframe\n",
    "somalia_df.head()"
   ]
  },
  {
   "cell_type": "code",
   "execution_count": 17,
   "metadata": {
    "collapsed": true
   },
   "outputs": [],
   "source": [
    "# total count\n",
    "Sudan = 13123711\n",
    "Syria = 3439170"
   ]
  },
  {
   "cell_type": "code",
   "execution_count": 18,
   "metadata": {
    "collapsed": true
   },
   "outputs": [],
   "source": [
    "# import the matplotlib for plotting\n",
    "%matplotlib inline\n",
    "import matplotlib as mpl\n",
    "import matplotlib.pyplot as plt"
   ]
  },
  {
   "cell_type": "code",
   "execution_count": 19,
   "metadata": {
    "collapsed": true
   },
   "outputs": [],
   "source": [
    "# dataframe related to number of occurences of the refugee immigration\n",
    "year_ref_df = pd.DataFrame(refugee['Year'].value_counts()) #value counts\n",
    "year_ref_df.columns = ['Count']                            # renaming the column\n",
    "year = pd.Series(year_ref_df.index.values)                 # series for year\n",
    "count = pd.Series(year_ref_df.Count.values)                # series for count"
   ]
  },
  {
   "cell_type": "code",
   "execution_count": 20,
   "metadata": {
    "collapsed": true
   },
   "outputs": [],
   "source": [
    "# final dataframe with counts of each year\n",
    "year_ref_df = pd.DataFrame(year, columns=['Year'])\n",
    "year_ref_df['Count'] = count"
   ]
  },
  {
   "cell_type": "code",
   "execution_count": 68,
   "metadata": {
    "collapsed": false
   },
   "outputs": [
    {
     "data": {
      "image/png": "[encoded data removed]",
      "text/plain": [
       "<matplotlib.figure.Figure at 0x168948f3ba8>"
      ]
     },
     "metadata": {},
     "output_type": "display_data"
    }
   ],
   "source": [
    "# plot the graph\n",
    "plot1 = mpl.pyplot.scatter(year_ref_df['Year'],year_ref_df['Count'])"
   ]
  },
  {
   "cell_type": "code",
   "execution_count": 75,
   "metadata": {
    "collapsed": true
   },
   "outputs": [],
   "source": [
    "from matplotlib.backends.backend_pdf import PdfPages\n",
    "import matplotlib.pyplot as plt"
   ]
  },
  {
   "cell_type": "code",
   "execution_count": 76,
   "metadata": {
    "collapsed": false
   },
   "outputs": [
    {
     "ename": "AttributeError",
     "evalue": "'PathCollection' object has no attribute 'savefig'",
     "output_type": "error",
     "traceback": [
      "\u001b[1;31m---------------------------------------------------------------------------\u001b[0m",
      "\u001b[1;31mAttributeError\u001b[0m                            Traceback (most recent call last)",
      "\u001b[1;32m<ipython-input-76-47ba16308a4b>\u001b[0m in \u001b[0;36m<module>\u001b[1;34m()\u001b[0m\n\u001b[0;32m      3\u001b[0m \u001b[1;33m\u001b[0m\u001b[0m\n\u001b[0;32m      4\u001b[0m \u001b[1;31m#pp = PdfPages('abc.pdf')\u001b[0m\u001b[1;33m\u001b[0m\u001b[1;33m\u001b[0m\u001b[0m\n\u001b[1;32m----> 5\u001b[1;33m \u001b[0mplot1\u001b[0m\u001b[1;33m.\u001b[0m\u001b[0msavefig\u001b[0m\u001b[1;33m(\u001b[0m\u001b[1;34m'abc.pdf'\u001b[0m\u001b[1;33m)\u001b[0m\u001b[1;33m\u001b[0m\u001b[0m\n\u001b[0m",
      "\u001b[1;31mAttributeError\u001b[0m: 'PathCollection' object has no attribute 'savefig'"
     ]
    }
   ],
   "source": [
    "#pdf.savefig('ABC.pdf')\n",
    "\n",
    "\n",
    "#pp = PdfPages('abc.pdf')\n",
    "plot1.savefig('abc.pdf')"
   ]
  },
  {
   "cell_type": "markdown",
   "metadata": {},
   "source": [
    "### Linear Regression"
   ]
  },
  {
   "cell_type": "code",
   "execution_count": 21,
   "metadata": {
    "collapsed": true
   },
   "outputs": [],
   "source": [
    "# import the required library for Linear Regression\n",
    "\n",
    "from sklearn.linear_model import LinearRegression\n",
    "linear_regression_model = LinearRegression()"
   ]
  },
  {
   "cell_type": "code",
   "execution_count": 22,
   "metadata": {
    "collapsed": false
   },
   "outputs": [
    {
     "data": {
      "text/plain": [
       "LinearRegression(copy_X=True, fit_intercept=True, n_jobs=1, normalize=False)"
      ]
     },
     "execution_count": 22,
     "metadata": {},
     "output_type": "execute_result"
    }
   ],
   "source": [
    "# fit the model\n",
    "linear_regression_model.fit(year_ref_df[['Year']], year_ref_df[['Count']])"
   ]
  },
  {
   "cell_type": "code",
   "execution_count": 23,
   "metadata": {
    "collapsed": false
   },
   "outputs": [
    {
     "data": {
      "text/plain": [
       "array([-311878.10877193])"
      ]
     },
     "execution_count": 23,
     "metadata": {},
     "output_type": "execute_result"
    }
   ],
   "source": [
    "# examine the intercept of the model\n",
    "linear_regression_model.intercept_"
   ]
  },
  {
   "cell_type": "code",
   "execution_count": 24,
   "metadata": {
    "collapsed": false
   },
   "outputs": [
    {
     "data": {
      "text/plain": [
       "array([[ 157.44251012]])"
      ]
     },
     "execution_count": 24,
     "metadata": {},
     "output_type": "execute_result"
    }
   ],
   "source": [
    "# examine the coefficient of the model\n",
    "linear_regression_model.coef_"
   ]
  },
  {
   "cell_type": "code",
   "execution_count": 25,
   "metadata": {
    "collapsed": false
   },
   "outputs": [],
   "source": [
    "# Predict the data with the help of model created above i.e. linear_regression_model\n",
    "yhat = linear_regression_model.predict(year_ref_df[['Year']])"
   ]
  },
  {
   "cell_type": "code",
   "execution_count": 26,
   "metadata": {
    "collapsed": false
   },
   "outputs": [
    {
     "data": {
      "text/plain": [
       "Count    246830.361763\n",
       "dtype: float64"
      ]
     },
     "execution_count": 26,
     "metadata": {},
     "output_type": "execute_result"
    }
   ],
   "source": [
    "# calculating the root mean square error\n",
    "# help of mean() function\n",
    "((yhat-year_ref_df[['Count']])**2).mean()"
   ]
  },
  {
   "cell_type": "markdown",
   "metadata": {},
   "source": [
    "#### Assesing Model Accuracy - Train and Test"
   ]
  },
  {
   "cell_type": "code",
   "execution_count": 27,
   "metadata": {
    "collapsed": true
   },
   "outputs": [],
   "source": [
    "# import the seaborn package\n",
    "import seaborn as sns\n",
    "sns.set_style(\"white\")"
   ]
  },
  {
   "cell_type": "code",
   "execution_count": 28,
   "metadata": {
    "collapsed": true
   },
   "outputs": [],
   "source": [
    "# Let's split the training data into two components i.e. train and split\n",
    "from sklearn.cross_validation import train_test_split"
   ]
  },
  {
   "cell_type": "code",
   "execution_count": 29,
   "metadata": {
    "collapsed": false
   },
   "outputs": [],
   "source": [
    "# decide on the split ratio\n",
    "# 70-30 split\n",
    "Year_train, Year_test, Count_train, Count_test = train_test_split(year_ref_df[['Year']],\\\n",
    "                                    year_ref_df[['Count']], test_size = 0.3, random_state = 0)"
   ]
  },
  {
   "cell_type": "markdown",
   "metadata": {},
   "source": [
    "##### Model Fit"
   ]
  },
  {
   "cell_type": "code",
   "execution_count": 30,
   "metadata": {
    "collapsed": false
   },
   "outputs": [],
   "source": [
    "# fit the data with the help of LinearRegresion().fit() function\n",
    "model_refugee = LinearRegression().fit(Year_train, Count_train) # fit"
   ]
  },
  {
   "cell_type": "code",
   "execution_count": 31,
   "metadata": {
    "collapsed": true
   },
   "outputs": [],
   "source": [
    "# Compute the MSE\n",
    "model_refugee_train_err = ((model_refugee.predict(Year_train) - Count_train)**2).mean()[0]"
   ]
  },
  {
   "cell_type": "code",
   "execution_count": 32,
   "metadata": {
    "collapsed": false
   },
   "outputs": [
    {
     "data": {
      "text/plain": [
       "236445.38135783287"
      ]
     },
     "execution_count": 32,
     "metadata": {},
     "output_type": "execute_result"
    }
   ],
   "source": [
    "# Training error\n",
    "model_refugee_train_err"
   ]
  },
  {
   "cell_type": "code",
   "execution_count": 33,
   "metadata": {
    "collapsed": false
   },
   "outputs": [],
   "source": [
    "# Test the model\n",
    "model_refugee_test_err = ((model_refugee.predict(Year_test) - Count_test)**2).mean()[0]"
   ]
  },
  {
   "cell_type": "code",
   "execution_count": 34,
   "metadata": {
    "collapsed": false
   },
   "outputs": [
    {
     "data": {
      "text/plain": [
       "294595.27238169097"
      ]
     },
     "execution_count": 34,
     "metadata": {},
     "output_type": "execute_result"
    }
   ],
   "source": [
    "# Testing error\n",
    "model_refugee_test_err"
   ]
  },
  {
   "cell_type": "code",
   "execution_count": 35,
   "metadata": {
    "collapsed": false
   },
   "outputs": [
    {
     "data": {
      "text/plain": [
       "array([[ 5179.73095774]])"
      ]
     },
     "execution_count": 35,
     "metadata": {},
     "output_type": "execute_result"
    }
   ],
   "source": [
    "# Prediction for year 2014\n",
    "model_refugee.predict(2014)"
   ]
  },
  {
   "cell_type": "code",
   "execution_count": 36,
   "metadata": {
    "collapsed": false
   },
   "outputs": [
    {
     "data": {
      "text/plain": [
       "array([[ 5332.26650522]])"
      ]
     },
     "execution_count": 36,
     "metadata": {},
     "output_type": "execute_result"
    }
   ],
   "source": [
    "# Prediction for year 2015\n",
    "model_refugee.predict(2015)"
   ]
  },
  {
   "cell_type": "code",
   "execution_count": 37,
   "metadata": {
    "collapsed": false
   },
   "outputs": [
    {
     "data": {
      "text/plain": [
       "array([[ 5484.8020527]])"
      ]
     },
     "execution_count": 37,
     "metadata": {},
     "output_type": "execute_result"
    }
   ],
   "source": [
    "# Prediction for year 2016\n",
    "model_refugee.predict(2016)"
   ]
  },
  {
   "cell_type": "code",
   "execution_count": null,
   "metadata": {
    "collapsed": true
   },
   "outputs": [],
   "source": []
  }
 ],
 "metadata": {
  "kernelspec": {
   "display_name": "Python 3",
   "language": "python",
   "name": "python3"
  },
  "language_info": {
   "codemirror_mode": {
    "name": "ipython",
    "version": 3
   },
   "file_extension": ".py",
   "mimetype": "text/x-python",
   "name": "python",
   "nbconvert_exporter": "python",
   "pygments_lexer": "ipython3",
   "version": "3.5.1"
  }
 },
 "nbformat": 4,
 "nbformat_minor": 0
}
