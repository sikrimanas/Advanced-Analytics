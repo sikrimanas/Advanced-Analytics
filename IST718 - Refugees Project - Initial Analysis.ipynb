{
 "cells": [
  {
   "cell_type": "code",
   "execution_count": 4,
   "metadata": {
    "collapsed": true
   },
   "outputs": [],
   "source": [
    "# Intial Check\n",
    "import numpy as np\n",
    "import pandas as pd"
   ]
  },
  {
   "cell_type": "code",
   "execution_count": 5,
   "metadata": {
    "collapsed": true
   },
   "outputs": [],
   "source": [
    "# read the file\n",
    "refugee = pd.read_csv(\"UNdata_Export_20161102_000521483.csv\")"
   ]
  },
  {
   "cell_type": "code",
   "execution_count": 6,
   "metadata": {
    "collapsed": false
   },
   "outputs": [
    {
     "data": {
      "text/html": [
       "<div>\n",
       "<table border=\"1\" class=\"dataframe\">\n",
       "  <thead>\n",
       "    <tr style=\"text-align: right;\">\n",
       "      <th></th>\n",
       "      <th>Country or territory of asylum or residence</th>\n",
       "      <th>Country or territory of origin</th>\n",
       "      <th>Year</th>\n",
       "      <th>Refugees&lt;sup&gt;*&lt;/sup&gt;</th>\n",
       "      <th>Refugees assisted by UNHCR</th>\n",
       "      <th>Total refugees and people in refugee-like situations&lt;sup&gt;**&lt;/sup&gt;</th>\n",
       "      <th>Total refugees and people in refugee-like situations assisted by UNHCR</th>\n",
       "    </tr>\n",
       "  </thead>\n",
       "  <tbody>\n",
       "    <tr>\n",
       "      <th>0</th>\n",
       "      <td>Afghanistan</td>\n",
       "      <td>Iraq</td>\n",
       "      <td>2013.0</td>\n",
       "      <td>1.0</td>\n",
       "      <td>1.0</td>\n",
       "      <td>1.0</td>\n",
       "      <td>1.0</td>\n",
       "    </tr>\n",
       "    <tr>\n",
       "      <th>1</th>\n",
       "      <td>Afghanistan</td>\n",
       "      <td>Islamic Rep. of Iran</td>\n",
       "      <td>2013.0</td>\n",
       "      <td>36.0</td>\n",
       "      <td>36.0</td>\n",
       "      <td>36.0</td>\n",
       "      <td>36.0</td>\n",
       "    </tr>\n",
       "    <tr>\n",
       "      <th>2</th>\n",
       "      <td>Afghanistan</td>\n",
       "      <td>Pakistan</td>\n",
       "      <td>2013.0</td>\n",
       "      <td>34.0</td>\n",
       "      <td>34.0</td>\n",
       "      <td>16825.0</td>\n",
       "      <td>16825.0</td>\n",
       "    </tr>\n",
       "    <tr>\n",
       "      <th>3</th>\n",
       "      <td>Afghanistan</td>\n",
       "      <td>State of Palestine</td>\n",
       "      <td>2013.0</td>\n",
       "      <td>1.0</td>\n",
       "      <td>1.0</td>\n",
       "      <td>1.0</td>\n",
       "      <td>1.0</td>\n",
       "    </tr>\n",
       "    <tr>\n",
       "      <th>4</th>\n",
       "      <td>Albania</td>\n",
       "      <td>Algeria</td>\n",
       "      <td>2013.0</td>\n",
       "      <td>0.0</td>\n",
       "      <td>0.0</td>\n",
       "      <td>0.0</td>\n",
       "      <td>0.0</td>\n",
       "    </tr>\n",
       "    <tr>\n",
       "      <th>5</th>\n",
       "      <td>Albania</td>\n",
       "      <td>China</td>\n",
       "      <td>2013.0</td>\n",
       "      <td>12.0</td>\n",
       "      <td>12.0</td>\n",
       "      <td>12.0</td>\n",
       "      <td>12.0</td>\n",
       "    </tr>\n",
       "    <tr>\n",
       "      <th>6</th>\n",
       "      <td>Albania</td>\n",
       "      <td>Dem. Rep. of the Congo</td>\n",
       "      <td>2013.0</td>\n",
       "      <td>5.0</td>\n",
       "      <td>5.0</td>\n",
       "      <td>5.0</td>\n",
       "      <td>5.0</td>\n",
       "    </tr>\n",
       "    <tr>\n",
       "      <th>7</th>\n",
       "      <td>Albania</td>\n",
       "      <td>Egypt</td>\n",
       "      <td>2013.0</td>\n",
       "      <td>3.0</td>\n",
       "      <td>3.0</td>\n",
       "      <td>3.0</td>\n",
       "      <td>3.0</td>\n",
       "    </tr>\n",
       "    <tr>\n",
       "      <th>8</th>\n",
       "      <td>Albania</td>\n",
       "      <td>Iraq</td>\n",
       "      <td>2013.0</td>\n",
       "      <td>5.0</td>\n",
       "      <td>5.0</td>\n",
       "      <td>5.0</td>\n",
       "      <td>5.0</td>\n",
       "    </tr>\n",
       "    <tr>\n",
       "      <th>9</th>\n",
       "      <td>Albania</td>\n",
       "      <td>Montenegro</td>\n",
       "      <td>2013.0</td>\n",
       "      <td>2.0</td>\n",
       "      <td>2.0</td>\n",
       "      <td>2.0</td>\n",
       "      <td>2.0</td>\n",
       "    </tr>\n",
       "    <tr>\n",
       "      <th>10</th>\n",
       "      <td>Albania</td>\n",
       "      <td>Peru</td>\n",
       "      <td>2013.0</td>\n",
       "      <td>1.0</td>\n",
       "      <td>1.0</td>\n",
       "      <td>1.0</td>\n",
       "      <td>1.0</td>\n",
       "    </tr>\n",
       "    <tr>\n",
       "      <th>11</th>\n",
       "      <td>Albania</td>\n",
       "      <td>Serbia (and Kosovo: S/RES/1244 (1999))</td>\n",
       "      <td>2013.0</td>\n",
       "      <td>54.0</td>\n",
       "      <td>54.0</td>\n",
       "      <td>54.0</td>\n",
       "      <td>54.0</td>\n",
       "    </tr>\n",
       "    <tr>\n",
       "      <th>12</th>\n",
       "      <td>Albania</td>\n",
       "      <td>State of Palestine</td>\n",
       "      <td>2013.0</td>\n",
       "      <td>4.0</td>\n",
       "      <td>4.0</td>\n",
       "      <td>4.0</td>\n",
       "      <td>4.0</td>\n",
       "    </tr>\n",
       "    <tr>\n",
       "      <th>13</th>\n",
       "      <td>Albania</td>\n",
       "      <td>Tunisia</td>\n",
       "      <td>2013.0</td>\n",
       "      <td>0.0</td>\n",
       "      <td>0.0</td>\n",
       "      <td>0.0</td>\n",
       "      <td>0.0</td>\n",
       "    </tr>\n",
       "    <tr>\n",
       "      <th>14</th>\n",
       "      <td>Albania</td>\n",
       "      <td>Turkey</td>\n",
       "      <td>2013.0</td>\n",
       "      <td>4.0</td>\n",
       "      <td>4.0</td>\n",
       "      <td>4.0</td>\n",
       "      <td>4.0</td>\n",
       "    </tr>\n",
       "    <tr>\n",
       "      <th>15</th>\n",
       "      <td>Albania</td>\n",
       "      <td>Uzbekistan</td>\n",
       "      <td>2013.0</td>\n",
       "      <td>3.0</td>\n",
       "      <td>3.0</td>\n",
       "      <td>3.0</td>\n",
       "      <td>3.0</td>\n",
       "    </tr>\n",
       "    <tr>\n",
       "      <th>16</th>\n",
       "      <td>Algeria</td>\n",
       "      <td>Afghanistan</td>\n",
       "      <td>2013.0</td>\n",
       "      <td>2.0</td>\n",
       "      <td>2.0</td>\n",
       "      <td>2.0</td>\n",
       "      <td>2.0</td>\n",
       "    </tr>\n",
       "    <tr>\n",
       "      <th>17</th>\n",
       "      <td>Algeria</td>\n",
       "      <td>Angola</td>\n",
       "      <td>2013.0</td>\n",
       "      <td>4.0</td>\n",
       "      <td>4.0</td>\n",
       "      <td>4.0</td>\n",
       "      <td>4.0</td>\n",
       "    </tr>\n",
       "    <tr>\n",
       "      <th>18</th>\n",
       "      <td>Algeria</td>\n",
       "      <td>Burundi</td>\n",
       "      <td>2013.0</td>\n",
       "      <td>1.0</td>\n",
       "      <td>1.0</td>\n",
       "      <td>1.0</td>\n",
       "      <td>1.0</td>\n",
       "    </tr>\n",
       "    <tr>\n",
       "      <th>19</th>\n",
       "      <td>Algeria</td>\n",
       "      <td>Cameroon</td>\n",
       "      <td>2013.0</td>\n",
       "      <td>10.0</td>\n",
       "      <td>10.0</td>\n",
       "      <td>10.0</td>\n",
       "      <td>10.0</td>\n",
       "    </tr>\n",
       "    <tr>\n",
       "      <th>20</th>\n",
       "      <td>Algeria</td>\n",
       "      <td>Central African Rep.</td>\n",
       "      <td>2013.0</td>\n",
       "      <td>1.0</td>\n",
       "      <td>1.0</td>\n",
       "      <td>1.0</td>\n",
       "      <td>1.0</td>\n",
       "    </tr>\n",
       "    <tr>\n",
       "      <th>21</th>\n",
       "      <td>Algeria</td>\n",
       "      <td>Chad</td>\n",
       "      <td>2013.0</td>\n",
       "      <td>2.0</td>\n",
       "      <td>2.0</td>\n",
       "      <td>2.0</td>\n",
       "      <td>2.0</td>\n",
       "    </tr>\n",
       "    <tr>\n",
       "      <th>22</th>\n",
       "      <td>Algeria</td>\n",
       "      <td>Congo</td>\n",
       "      <td>2013.0</td>\n",
       "      <td>7.0</td>\n",
       "      <td>7.0</td>\n",
       "      <td>7.0</td>\n",
       "      <td>7.0</td>\n",
       "    </tr>\n",
       "    <tr>\n",
       "      <th>23</th>\n",
       "      <td>Algeria</td>\n",
       "      <td>Côte d'Ivoire</td>\n",
       "      <td>2013.0</td>\n",
       "      <td>30.0</td>\n",
       "      <td>30.0</td>\n",
       "      <td>30.0</td>\n",
       "      <td>30.0</td>\n",
       "    </tr>\n",
       "    <tr>\n",
       "      <th>24</th>\n",
       "      <td>Algeria</td>\n",
       "      <td>Dem. Rep. of the Congo</td>\n",
       "      <td>2013.0</td>\n",
       "      <td>43.0</td>\n",
       "      <td>43.0</td>\n",
       "      <td>43.0</td>\n",
       "      <td>43.0</td>\n",
       "    </tr>\n",
       "    <tr>\n",
       "      <th>25</th>\n",
       "      <td>Algeria</td>\n",
       "      <td>Eritrea</td>\n",
       "      <td>2013.0</td>\n",
       "      <td>1.0</td>\n",
       "      <td>1.0</td>\n",
       "      <td>1.0</td>\n",
       "      <td>1.0</td>\n",
       "    </tr>\n",
       "    <tr>\n",
       "      <th>26</th>\n",
       "      <td>Algeria</td>\n",
       "      <td>Guinea</td>\n",
       "      <td>2013.0</td>\n",
       "      <td>1.0</td>\n",
       "      <td>1.0</td>\n",
       "      <td>1.0</td>\n",
       "      <td>1.0</td>\n",
       "    </tr>\n",
       "    <tr>\n",
       "      <th>27</th>\n",
       "      <td>Algeria</td>\n",
       "      <td>Iraq</td>\n",
       "      <td>2013.0</td>\n",
       "      <td>15.0</td>\n",
       "      <td>15.0</td>\n",
       "      <td>15.0</td>\n",
       "      <td>15.0</td>\n",
       "    </tr>\n",
       "    <tr>\n",
       "      <th>28</th>\n",
       "      <td>Algeria</td>\n",
       "      <td>Liberia</td>\n",
       "      <td>2013.0</td>\n",
       "      <td>2.0</td>\n",
       "      <td>2.0</td>\n",
       "      <td>2.0</td>\n",
       "      <td>2.0</td>\n",
       "    </tr>\n",
       "    <tr>\n",
       "      <th>29</th>\n",
       "      <td>Algeria</td>\n",
       "      <td>Mali</td>\n",
       "      <td>2013.0</td>\n",
       "      <td>0.0</td>\n",
       "      <td>0.0</td>\n",
       "      <td>0.0</td>\n",
       "      <td>0.0</td>\n",
       "    </tr>\n",
       "    <tr>\n",
       "      <th>...</th>\n",
       "      <td>...</td>\n",
       "      <td>...</td>\n",
       "      <td>...</td>\n",
       "      <td>...</td>\n",
       "      <td>...</td>\n",
       "      <td>...</td>\n",
       "      <td>...</td>\n",
       "    </tr>\n",
       "    <tr>\n",
       "      <th>80401</th>\n",
       "      <td>Uganda</td>\n",
       "      <td>Rwanda</td>\n",
       "      <td>1975.0</td>\n",
       "      <td>78120.0</td>\n",
       "      <td>NaN</td>\n",
       "      <td>78120.0</td>\n",
       "      <td>NaN</td>\n",
       "    </tr>\n",
       "    <tr>\n",
       "      <th>80402</th>\n",
       "      <td>Uganda</td>\n",
       "      <td>Various</td>\n",
       "      <td>1975.0</td>\n",
       "      <td>60.0</td>\n",
       "      <td>NaN</td>\n",
       "      <td>60.0</td>\n",
       "      <td>NaN</td>\n",
       "    </tr>\n",
       "    <tr>\n",
       "      <th>80403</th>\n",
       "      <td>United Kingdom</td>\n",
       "      <td>Various</td>\n",
       "      <td>1975.0</td>\n",
       "      <td>153000.0</td>\n",
       "      <td>NaN</td>\n",
       "      <td>153000.0</td>\n",
       "      <td>NaN</td>\n",
       "    </tr>\n",
       "    <tr>\n",
       "      <th>80404</th>\n",
       "      <td>United Rep. of Tanzania</td>\n",
       "      <td>Burundi</td>\n",
       "      <td>1975.0</td>\n",
       "      <td>110540.0</td>\n",
       "      <td>NaN</td>\n",
       "      <td>110540.0</td>\n",
       "      <td>NaN</td>\n",
       "    </tr>\n",
       "    <tr>\n",
       "      <th>80405</th>\n",
       "      <td>United Rep. of Tanzania</td>\n",
       "      <td>Dem. Rep. of the Congo</td>\n",
       "      <td>1975.0</td>\n",
       "      <td>400.0</td>\n",
       "      <td>NaN</td>\n",
       "      <td>400.0</td>\n",
       "      <td>NaN</td>\n",
       "    </tr>\n",
       "    <tr>\n",
       "      <th>80406</th>\n",
       "      <td>United Rep. of Tanzania</td>\n",
       "      <td>Malawi</td>\n",
       "      <td>1975.0</td>\n",
       "      <td>80.0</td>\n",
       "      <td>NaN</td>\n",
       "      <td>80.0</td>\n",
       "      <td>NaN</td>\n",
       "    </tr>\n",
       "    <tr>\n",
       "      <th>80407</th>\n",
       "      <td>United Rep. of Tanzania</td>\n",
       "      <td>Mozambique</td>\n",
       "      <td>1975.0</td>\n",
       "      <td>33700.0</td>\n",
       "      <td>NaN</td>\n",
       "      <td>33700.0</td>\n",
       "      <td>NaN</td>\n",
       "    </tr>\n",
       "    <tr>\n",
       "      <th>80408</th>\n",
       "      <td>United Rep. of Tanzania</td>\n",
       "      <td>Rwanda</td>\n",
       "      <td>1975.0</td>\n",
       "      <td>23100.0</td>\n",
       "      <td>NaN</td>\n",
       "      <td>23100.0</td>\n",
       "      <td>NaN</td>\n",
       "    </tr>\n",
       "    <tr>\n",
       "      <th>80409</th>\n",
       "      <td>United Rep. of Tanzania</td>\n",
       "      <td>South Africa</td>\n",
       "      <td>1975.0</td>\n",
       "      <td>60.0</td>\n",
       "      <td>NaN</td>\n",
       "      <td>60.0</td>\n",
       "      <td>NaN</td>\n",
       "    </tr>\n",
       "    <tr>\n",
       "      <th>80410</th>\n",
       "      <td>United Rep. of Tanzania</td>\n",
       "      <td>Uganda</td>\n",
       "      <td>1975.0</td>\n",
       "      <td>2300.0</td>\n",
       "      <td>NaN</td>\n",
       "      <td>2300.0</td>\n",
       "      <td>NaN</td>\n",
       "    </tr>\n",
       "    <tr>\n",
       "      <th>80411</th>\n",
       "      <td>United Rep. of Tanzania</td>\n",
       "      <td>Various</td>\n",
       "      <td>1975.0</td>\n",
       "      <td>900.0</td>\n",
       "      <td>NaN</td>\n",
       "      <td>900.0</td>\n",
       "      <td>NaN</td>\n",
       "    </tr>\n",
       "    <tr>\n",
       "      <th>80412</th>\n",
       "      <td>United Rep. of Tanzania</td>\n",
       "      <td>Zimbabwe</td>\n",
       "      <td>1975.0</td>\n",
       "      <td>80.0</td>\n",
       "      <td>NaN</td>\n",
       "      <td>80.0</td>\n",
       "      <td>NaN</td>\n",
       "    </tr>\n",
       "    <tr>\n",
       "      <th>80413</th>\n",
       "      <td>United States</td>\n",
       "      <td>Various</td>\n",
       "      <td>1975.0</td>\n",
       "      <td>530000.0</td>\n",
       "      <td>NaN</td>\n",
       "      <td>530000.0</td>\n",
       "      <td>NaN</td>\n",
       "    </tr>\n",
       "    <tr>\n",
       "      <th>80414</th>\n",
       "      <td>Various</td>\n",
       "      <td>Angola</td>\n",
       "      <td>1975.0</td>\n",
       "      <td>5000.0</td>\n",
       "      <td>NaN</td>\n",
       "      <td>5000.0</td>\n",
       "      <td>NaN</td>\n",
       "    </tr>\n",
       "    <tr>\n",
       "      <th>80415</th>\n",
       "      <td>Various</td>\n",
       "      <td>Various</td>\n",
       "      <td>1975.0</td>\n",
       "      <td>749120.0</td>\n",
       "      <td>NaN</td>\n",
       "      <td>749120.0</td>\n",
       "      <td>NaN</td>\n",
       "    </tr>\n",
       "    <tr>\n",
       "      <th>80416</th>\n",
       "      <td>Zambia</td>\n",
       "      <td>Angola</td>\n",
       "      <td>1975.0</td>\n",
       "      <td>30040.0</td>\n",
       "      <td>NaN</td>\n",
       "      <td>30040.0</td>\n",
       "      <td>NaN</td>\n",
       "    </tr>\n",
       "    <tr>\n",
       "      <th>80417</th>\n",
       "      <td>Zambia</td>\n",
       "      <td>Congo</td>\n",
       "      <td>1975.0</td>\n",
       "      <td>110.0</td>\n",
       "      <td>NaN</td>\n",
       "      <td>110.0</td>\n",
       "      <td>NaN</td>\n",
       "    </tr>\n",
       "    <tr>\n",
       "      <th>80418</th>\n",
       "      <td>Zambia</td>\n",
       "      <td>Dem. Rep. of the Congo</td>\n",
       "      <td>1975.0</td>\n",
       "      <td>60.0</td>\n",
       "      <td>NaN</td>\n",
       "      <td>60.0</td>\n",
       "      <td>NaN</td>\n",
       "    </tr>\n",
       "    <tr>\n",
       "      <th>80419</th>\n",
       "      <td>Zambia</td>\n",
       "      <td>Ethiopia</td>\n",
       "      <td>1975.0</td>\n",
       "      <td>110.0</td>\n",
       "      <td>NaN</td>\n",
       "      <td>110.0</td>\n",
       "      <td>NaN</td>\n",
       "    </tr>\n",
       "    <tr>\n",
       "      <th>80420</th>\n",
       "      <td>Zambia</td>\n",
       "      <td>Kenya</td>\n",
       "      <td>1975.0</td>\n",
       "      <td>90.0</td>\n",
       "      <td>NaN</td>\n",
       "      <td>90.0</td>\n",
       "      <td>NaN</td>\n",
       "    </tr>\n",
       "    <tr>\n",
       "      <th>80421</th>\n",
       "      <td>Zambia</td>\n",
       "      <td>Lesotho</td>\n",
       "      <td>1975.0</td>\n",
       "      <td>120.0</td>\n",
       "      <td>NaN</td>\n",
       "      <td>120.0</td>\n",
       "      <td>NaN</td>\n",
       "    </tr>\n",
       "    <tr>\n",
       "      <th>80422</th>\n",
       "      <td>Zambia</td>\n",
       "      <td>Malawi</td>\n",
       "      <td>1975.0</td>\n",
       "      <td>270.0</td>\n",
       "      <td>NaN</td>\n",
       "      <td>270.0</td>\n",
       "      <td>NaN</td>\n",
       "    </tr>\n",
       "    <tr>\n",
       "      <th>80423</th>\n",
       "      <td>Zambia</td>\n",
       "      <td>Mozambique</td>\n",
       "      <td>1975.0</td>\n",
       "      <td>450.0</td>\n",
       "      <td>NaN</td>\n",
       "      <td>450.0</td>\n",
       "      <td>NaN</td>\n",
       "    </tr>\n",
       "    <tr>\n",
       "      <th>80424</th>\n",
       "      <td>Zambia</td>\n",
       "      <td>Namibia</td>\n",
       "      <td>1975.0</td>\n",
       "      <td>3720.0</td>\n",
       "      <td>NaN</td>\n",
       "      <td>3720.0</td>\n",
       "      <td>NaN</td>\n",
       "    </tr>\n",
       "    <tr>\n",
       "      <th>80425</th>\n",
       "      <td>Zambia</td>\n",
       "      <td>Somalia</td>\n",
       "      <td>1975.0</td>\n",
       "      <td>110.0</td>\n",
       "      <td>NaN</td>\n",
       "      <td>110.0</td>\n",
       "      <td>NaN</td>\n",
       "    </tr>\n",
       "    <tr>\n",
       "      <th>80426</th>\n",
       "      <td>Zambia</td>\n",
       "      <td>South Africa</td>\n",
       "      <td>1975.0</td>\n",
       "      <td>760.0</td>\n",
       "      <td>NaN</td>\n",
       "      <td>760.0</td>\n",
       "      <td>NaN</td>\n",
       "    </tr>\n",
       "    <tr>\n",
       "      <th>80427</th>\n",
       "      <td>Zambia</td>\n",
       "      <td>Uganda</td>\n",
       "      <td>1975.0</td>\n",
       "      <td>210.0</td>\n",
       "      <td>NaN</td>\n",
       "      <td>210.0</td>\n",
       "      <td>NaN</td>\n",
       "    </tr>\n",
       "    <tr>\n",
       "      <th>80428</th>\n",
       "      <td>fnSeqID</td>\n",
       "      <td>Footnote</td>\n",
       "      <td>NaN</td>\n",
       "      <td>NaN</td>\n",
       "      <td>NaN</td>\n",
       "      <td>NaN</td>\n",
       "      <td>NaN</td>\n",
       "    </tr>\n",
       "    <tr>\n",
       "      <th>80429</th>\n",
       "      <td>*</td>\n",
       "      <td>Persons recognized as refugees under the 1951 ...</td>\n",
       "      <td>NaN</td>\n",
       "      <td>NaN</td>\n",
       "      <td>NaN</td>\n",
       "      <td>NaN</td>\n",
       "      <td>NaN</td>\n",
       "    </tr>\n",
       "    <tr>\n",
       "      <th>80430</th>\n",
       "      <td>**</td>\n",
       "      <td>The category of people in refugee-like situati...</td>\n",
       "      <td>NaN</td>\n",
       "      <td>NaN</td>\n",
       "      <td>NaN</td>\n",
       "      <td>NaN</td>\n",
       "      <td>NaN</td>\n",
       "    </tr>\n",
       "  </tbody>\n",
       "</table>\n",
       "<p>80431 rows × 7 columns</p>\n",
       "</div>"
      ],
      "text/plain": [
       "      Country or territory of asylum or residence  \\\n",
       "0                                     Afghanistan   \n",
       "1                                     Afghanistan   \n",
       "2                                     Afghanistan   \n",
       "3                                     Afghanistan   \n",
       "4                                         Albania   \n",
       "5                                         Albania   \n",
       "6                                         Albania   \n",
       "7                                         Albania   \n",
       "8                                         Albania   \n",
       "9                                         Albania   \n",
       "10                                        Albania   \n",
       "11                                        Albania   \n",
       "12                                        Albania   \n",
       "13                                        Albania   \n",
       "14                                        Albania   \n",
       "15                                        Albania   \n",
       "16                                        Algeria   \n",
       "17                                        Algeria   \n",
       "18                                        Algeria   \n",
       "19                                        Algeria   \n",
       "20                                        Algeria   \n",
       "21                                        Algeria   \n",
       "22                                        Algeria   \n",
       "23                                        Algeria   \n",
       "24                                        Algeria   \n",
       "25                                        Algeria   \n",
       "26                                        Algeria   \n",
       "27                                        Algeria   \n",
       "28                                        Algeria   \n",
       "29                                        Algeria   \n",
       "...                                           ...   \n",
       "80401                                      Uganda   \n",
       "80402                                      Uganda   \n",
       "80403                              United Kingdom   \n",
       "80404                     United Rep. of Tanzania   \n",
       "80405                     United Rep. of Tanzania   \n",
       "80406                     United Rep. of Tanzania   \n",
       "80407                     United Rep. of Tanzania   \n",
       "80408                     United Rep. of Tanzania   \n",
       "80409                     United Rep. of Tanzania   \n",
       "80410                     United Rep. of Tanzania   \n",
       "80411                     United Rep. of Tanzania   \n",
       "80412                     United Rep. of Tanzania   \n",
       "80413                               United States   \n",
       "80414                                     Various   \n",
       "80415                                     Various   \n",
       "80416                                      Zambia   \n",
       "80417                                      Zambia   \n",
       "80418                                      Zambia   \n",
       "80419                                      Zambia   \n",
       "80420                                      Zambia   \n",
       "80421                                      Zambia   \n",
       "80422                                      Zambia   \n",
       "80423                                      Zambia   \n",
       "80424                                      Zambia   \n",
       "80425                                      Zambia   \n",
       "80426                                      Zambia   \n",
       "80427                                      Zambia   \n",
       "80428                                     fnSeqID   \n",
       "80429                                           *   \n",
       "80430                                          **   \n",
       "\n",
       "                          Country or territory of origin    Year  \\\n",
       "0                                                   Iraq  2013.0   \n",
       "1                                   Islamic Rep. of Iran  2013.0   \n",
       "2                                               Pakistan  2013.0   \n",
       "3                                     State of Palestine  2013.0   \n",
       "4                                                Algeria  2013.0   \n",
       "5                                                  China  2013.0   \n",
       "6                                 Dem. Rep. of the Congo  2013.0   \n",
       "7                                                  Egypt  2013.0   \n",
       "8                                                   Iraq  2013.0   \n",
       "9                                             Montenegro  2013.0   \n",
       "10                                                  Peru  2013.0   \n",
       "11                Serbia (and Kosovo: S/RES/1244 (1999))  2013.0   \n",
       "12                                    State of Palestine  2013.0   \n",
       "13                                               Tunisia  2013.0   \n",
       "14                                                Turkey  2013.0   \n",
       "15                                            Uzbekistan  2013.0   \n",
       "16                                           Afghanistan  2013.0   \n",
       "17                                                Angola  2013.0   \n",
       "18                                               Burundi  2013.0   \n",
       "19                                              Cameroon  2013.0   \n",
       "20                                  Central African Rep.  2013.0   \n",
       "21                                                  Chad  2013.0   \n",
       "22                                                 Congo  2013.0   \n",
       "23                                         Côte d'Ivoire  2013.0   \n",
       "24                                Dem. Rep. of the Congo  2013.0   \n",
       "25                                               Eritrea  2013.0   \n",
       "26                                                Guinea  2013.0   \n",
       "27                                                  Iraq  2013.0   \n",
       "28                                               Liberia  2013.0   \n",
       "29                                                  Mali  2013.0   \n",
       "...                                                  ...     ...   \n",
       "80401                                             Rwanda  1975.0   \n",
       "80402                                            Various  1975.0   \n",
       "80403                                            Various  1975.0   \n",
       "80404                                            Burundi  1975.0   \n",
       "80405                             Dem. Rep. of the Congo  1975.0   \n",
       "80406                                             Malawi  1975.0   \n",
       "80407                                         Mozambique  1975.0   \n",
       "80408                                             Rwanda  1975.0   \n",
       "80409                                       South Africa  1975.0   \n",
       "80410                                             Uganda  1975.0   \n",
       "80411                                            Various  1975.0   \n",
       "80412                                           Zimbabwe  1975.0   \n",
       "80413                                            Various  1975.0   \n",
       "80414                                             Angola  1975.0   \n",
       "80415                                            Various  1975.0   \n",
       "80416                                             Angola  1975.0   \n",
       "80417                                              Congo  1975.0   \n",
       "80418                             Dem. Rep. of the Congo  1975.0   \n",
       "80419                                           Ethiopia  1975.0   \n",
       "80420                                              Kenya  1975.0   \n",
       "80421                                            Lesotho  1975.0   \n",
       "80422                                             Malawi  1975.0   \n",
       "80423                                         Mozambique  1975.0   \n",
       "80424                                            Namibia  1975.0   \n",
       "80425                                            Somalia  1975.0   \n",
       "80426                                       South Africa  1975.0   \n",
       "80427                                             Uganda  1975.0   \n",
       "80428                                           Footnote     NaN   \n",
       "80429  Persons recognized as refugees under the 1951 ...     NaN   \n",
       "80430  The category of people in refugee-like situati...     NaN   \n",
       "\n",
       "       Refugees<sup>*</sup>  Refugees assisted by UNHCR  \\\n",
       "0                       1.0                         1.0   \n",
       "1                      36.0                        36.0   \n",
       "2                      34.0                        34.0   \n",
       "3                       1.0                         1.0   \n",
       "4                       0.0                         0.0   \n",
       "5                      12.0                        12.0   \n",
       "6                       5.0                         5.0   \n",
       "7                       3.0                         3.0   \n",
       "8                       5.0                         5.0   \n",
       "9                       2.0                         2.0   \n",
       "10                      1.0                         1.0   \n",
       "11                     54.0                        54.0   \n",
       "12                      4.0                         4.0   \n",
       "13                      0.0                         0.0   \n",
       "14                      4.0                         4.0   \n",
       "15                      3.0                         3.0   \n",
       "16                      2.0                         2.0   \n",
       "17                      4.0                         4.0   \n",
       "18                      1.0                         1.0   \n",
       "19                     10.0                        10.0   \n",
       "20                      1.0                         1.0   \n",
       "21                      2.0                         2.0   \n",
       "22                      7.0                         7.0   \n",
       "23                     30.0                        30.0   \n",
       "24                     43.0                        43.0   \n",
       "25                      1.0                         1.0   \n",
       "26                      1.0                         1.0   \n",
       "27                     15.0                        15.0   \n",
       "28                      2.0                         2.0   \n",
       "29                      0.0                         0.0   \n",
       "...                     ...                         ...   \n",
       "80401               78120.0                         NaN   \n",
       "80402                  60.0                         NaN   \n",
       "80403              153000.0                         NaN   \n",
       "80404              110540.0                         NaN   \n",
       "80405                 400.0                         NaN   \n",
       "80406                  80.0                         NaN   \n",
       "80407               33700.0                         NaN   \n",
       "80408               23100.0                         NaN   \n",
       "80409                  60.0                         NaN   \n",
       "80410                2300.0                         NaN   \n",
       "80411                 900.0                         NaN   \n",
       "80412                  80.0                         NaN   \n",
       "80413              530000.0                         NaN   \n",
       "80414                5000.0                         NaN   \n",
       "80415              749120.0                         NaN   \n",
       "80416               30040.0                         NaN   \n",
       "80417                 110.0                         NaN   \n",
       "80418                  60.0                         NaN   \n",
       "80419                 110.0                         NaN   \n",
       "80420                  90.0                         NaN   \n",
       "80421                 120.0                         NaN   \n",
       "80422                 270.0                         NaN   \n",
       "80423                 450.0                         NaN   \n",
       "80424                3720.0                         NaN   \n",
       "80425                 110.0                         NaN   \n",
       "80426                 760.0                         NaN   \n",
       "80427                 210.0                         NaN   \n",
       "80428                   NaN                         NaN   \n",
       "80429                   NaN                         NaN   \n",
       "80430                   NaN                         NaN   \n",
       "\n",
       "       Total refugees and people in refugee-like situations<sup>**</sup>  \\\n",
       "0                                                    1.0                   \n",
       "1                                                   36.0                   \n",
       "2                                                16825.0                   \n",
       "3                                                    1.0                   \n",
       "4                                                    0.0                   \n",
       "5                                                   12.0                   \n",
       "6                                                    5.0                   \n",
       "7                                                    3.0                   \n",
       "8                                                    5.0                   \n",
       "9                                                    2.0                   \n",
       "10                                                   1.0                   \n",
       "11                                                  54.0                   \n",
       "12                                                   4.0                   \n",
       "13                                                   0.0                   \n",
       "14                                                   4.0                   \n",
       "15                                                   3.0                   \n",
       "16                                                   2.0                   \n",
       "17                                                   4.0                   \n",
       "18                                                   1.0                   \n",
       "19                                                  10.0                   \n",
       "20                                                   1.0                   \n",
       "21                                                   2.0                   \n",
       "22                                                   7.0                   \n",
       "23                                                  30.0                   \n",
       "24                                                  43.0                   \n",
       "25                                                   1.0                   \n",
       "26                                                   1.0                   \n",
       "27                                                  15.0                   \n",
       "28                                                   2.0                   \n",
       "29                                                   0.0                   \n",
       "...                                                  ...                   \n",
       "80401                                            78120.0                   \n",
       "80402                                               60.0                   \n",
       "80403                                           153000.0                   \n",
       "80404                                           110540.0                   \n",
       "80405                                              400.0                   \n",
       "80406                                               80.0                   \n",
       "80407                                            33700.0                   \n",
       "80408                                            23100.0                   \n",
       "80409                                               60.0                   \n",
       "80410                                             2300.0                   \n",
       "80411                                              900.0                   \n",
       "80412                                               80.0                   \n",
       "80413                                           530000.0                   \n",
       "80414                                             5000.0                   \n",
       "80415                                           749120.0                   \n",
       "80416                                            30040.0                   \n",
       "80417                                              110.0                   \n",
       "80418                                               60.0                   \n",
       "80419                                              110.0                   \n",
       "80420                                               90.0                   \n",
       "80421                                              120.0                   \n",
       "80422                                              270.0                   \n",
       "80423                                              450.0                   \n",
       "80424                                             3720.0                   \n",
       "80425                                              110.0                   \n",
       "80426                                              760.0                   \n",
       "80427                                              210.0                   \n",
       "80428                                                NaN                   \n",
       "80429                                                NaN                   \n",
       "80430                                                NaN                   \n",
       "\n",
       "       Total refugees and people in refugee-like situations assisted by UNHCR  \n",
       "0                                                    1.0                       \n",
       "1                                                   36.0                       \n",
       "2                                                16825.0                       \n",
       "3                                                    1.0                       \n",
       "4                                                    0.0                       \n",
       "5                                                   12.0                       \n",
       "6                                                    5.0                       \n",
       "7                                                    3.0                       \n",
       "8                                                    5.0                       \n",
       "9                                                    2.0                       \n",
       "10                                                   1.0                       \n",
       "11                                                  54.0                       \n",
       "12                                                   4.0                       \n",
       "13                                                   0.0                       \n",
       "14                                                   4.0                       \n",
       "15                                                   3.0                       \n",
       "16                                                   2.0                       \n",
       "17                                                   4.0                       \n",
       "18                                                   1.0                       \n",
       "19                                                  10.0                       \n",
       "20                                                   1.0                       \n",
       "21                                                   2.0                       \n",
       "22                                                   7.0                       \n",
       "23                                                  30.0                       \n",
       "24                                                  43.0                       \n",
       "25                                                   1.0                       \n",
       "26                                                   1.0                       \n",
       "27                                                  15.0                       \n",
       "28                                                   2.0                       \n",
       "29                                                   0.0                       \n",
       "...                                                  ...                       \n",
       "80401                                                NaN                       \n",
       "80402                                                NaN                       \n",
       "80403                                                NaN                       \n",
       "80404                                                NaN                       \n",
       "80405                                                NaN                       \n",
       "80406                                                NaN                       \n",
       "80407                                                NaN                       \n",
       "80408                                                NaN                       \n",
       "80409                                                NaN                       \n",
       "80410                                                NaN                       \n",
       "80411                                                NaN                       \n",
       "80412                                                NaN                       \n",
       "80413                                                NaN                       \n",
       "80414                                                NaN                       \n",
       "80415                                                NaN                       \n",
       "80416                                                NaN                       \n",
       "80417                                                NaN                       \n",
       "80418                                                NaN                       \n",
       "80419                                                NaN                       \n",
       "80420                                                NaN                       \n",
       "80421                                                NaN                       \n",
       "80422                                                NaN                       \n",
       "80423                                                NaN                       \n",
       "80424                                                NaN                       \n",
       "80425                                                NaN                       \n",
       "80426                                                NaN                       \n",
       "80427                                                NaN                       \n",
       "80428                                                NaN                       \n",
       "80429                                                NaN                       \n",
       "80430                                                NaN                       \n",
       "\n",
       "[80431 rows x 7 columns]"
      ]
     },
     "execution_count": 6,
     "metadata": {},
     "output_type": "execute_result"
    }
   ],
   "source": [
    "# check the dataframe\n",
    "refugee"
   ]
  },
  {
   "cell_type": "code",
   "execution_count": 7,
   "metadata": {
    "collapsed": false
   },
   "outputs": [],
   "source": [
    "refugee.columns = ['Country_Residence','Country_Origin','Year','Refugees','Refugees_UNHCR',\\\n",
    "                   'Total_Refugees', 'Total_Refugess_UNHCR']"
   ]
  },
  {
   "cell_type": "code",
   "execution_count": 8,
   "metadata": {
    "collapsed": false
   },
   "outputs": [],
   "source": [
    "refugee_by_year = pd.DataFrame(refugee['Refugees'].groupby(refugee.Year).agg('sum'))\n",
    "refugee_by_year.index\n",
    "refugee_by_year.columns = ['Sum']"
   ]
  },
  {
   "cell_type": "code",
   "execution_count": 9,
   "metadata": {
    "collapsed": false
   },
   "outputs": [],
   "source": [
    "year = pd.Series(refugee_by_year.index.values)\n",
    "count = pd.Series(refugee_by_year.Sum.values)"
   ]
  },
  {
   "cell_type": "code",
   "execution_count": 10,
   "metadata": {
    "collapsed": false
   },
   "outputs": [],
   "source": [
    "refugee_df = pd.DataFrame(year, columns=['year'])\n",
    "refugee_df['Sum'] = count"
   ]
  },
  {
   "cell_type": "code",
   "execution_count": 11,
   "metadata": {
    "collapsed": false
   },
   "outputs": [
    {
     "data": {
      "text/html": [
       "<div>\n",
       "<table border=\"1\" class=\"dataframe\">\n",
       "  <thead>\n",
       "    <tr style=\"text-align: right;\">\n",
       "      <th></th>\n",
       "      <th>year</th>\n",
       "      <th>Sum</th>\n",
       "    </tr>\n",
       "  </thead>\n",
       "  <tbody>\n",
       "    <tr>\n",
       "      <th>0</th>\n",
       "      <td>1975.0</td>\n",
       "      <td>3529434.0</td>\n",
       "    </tr>\n",
       "    <tr>\n",
       "      <th>1</th>\n",
       "      <td>1976.0</td>\n",
       "      <td>4270631.0</td>\n",
       "    </tr>\n",
       "    <tr>\n",
       "      <th>2</th>\n",
       "      <td>1977.0</td>\n",
       "      <td>4518659.0</td>\n",
       "    </tr>\n",
       "    <tr>\n",
       "      <th>3</th>\n",
       "      <td>1978.0</td>\n",
       "      <td>5065844.0</td>\n",
       "    </tr>\n",
       "    <tr>\n",
       "      <th>4</th>\n",
       "      <td>1979.0</td>\n",
       "      <td>6279912.0</td>\n",
       "    </tr>\n",
       "    <tr>\n",
       "      <th>5</th>\n",
       "      <td>1980.0</td>\n",
       "      <td>8454937.0</td>\n",
       "    </tr>\n",
       "    <tr>\n",
       "      <th>6</th>\n",
       "      <td>1981.0</td>\n",
       "      <td>9714306.0</td>\n",
       "    </tr>\n",
       "    <tr>\n",
       "      <th>7</th>\n",
       "      <td>1982.0</td>\n",
       "      <td>10319369.0</td>\n",
       "    </tr>\n",
       "    <tr>\n",
       "      <th>8</th>\n",
       "      <td>1983.0</td>\n",
       "      <td>10620803.0</td>\n",
       "    </tr>\n",
       "    <tr>\n",
       "      <th>9</th>\n",
       "      <td>1984.0</td>\n",
       "      <td>10728326.0</td>\n",
       "    </tr>\n",
       "    <tr>\n",
       "      <th>10</th>\n",
       "      <td>1985.0</td>\n",
       "      <td>11864062.0</td>\n",
       "    </tr>\n",
       "    <tr>\n",
       "      <th>11</th>\n",
       "      <td>1986.0</td>\n",
       "      <td>12633974.0</td>\n",
       "    </tr>\n",
       "    <tr>\n",
       "      <th>12</th>\n",
       "      <td>1987.0</td>\n",
       "      <td>13128347.0</td>\n",
       "    </tr>\n",
       "    <tr>\n",
       "      <th>13</th>\n",
       "      <td>1988.0</td>\n",
       "      <td>14347051.0</td>\n",
       "    </tr>\n",
       "    <tr>\n",
       "      <th>14</th>\n",
       "      <td>1989.0</td>\n",
       "      <td>14732934.0</td>\n",
       "    </tr>\n",
       "    <tr>\n",
       "      <th>15</th>\n",
       "      <td>1990.0</td>\n",
       "      <td>17395979.0</td>\n",
       "    </tr>\n",
       "    <tr>\n",
       "      <th>16</th>\n",
       "      <td>1991.0</td>\n",
       "      <td>16854795.0</td>\n",
       "    </tr>\n",
       "    <tr>\n",
       "      <th>17</th>\n",
       "      <td>1992.0</td>\n",
       "      <td>17838074.0</td>\n",
       "    </tr>\n",
       "    <tr>\n",
       "      <th>18</th>\n",
       "      <td>1993.0</td>\n",
       "      <td>16325525.0</td>\n",
       "    </tr>\n",
       "    <tr>\n",
       "      <th>19</th>\n",
       "      <td>1994.0</td>\n",
       "      <td>15753691.0</td>\n",
       "    </tr>\n",
       "    <tr>\n",
       "      <th>20</th>\n",
       "      <td>1995.0</td>\n",
       "      <td>14896087.0</td>\n",
       "    </tr>\n",
       "    <tr>\n",
       "      <th>21</th>\n",
       "      <td>1996.0</td>\n",
       "      <td>13357087.0</td>\n",
       "    </tr>\n",
       "    <tr>\n",
       "      <th>22</th>\n",
       "      <td>1997.0</td>\n",
       "      <td>12015350.0</td>\n",
       "    </tr>\n",
       "    <tr>\n",
       "      <th>23</th>\n",
       "      <td>1998.0</td>\n",
       "      <td>11480860.0</td>\n",
       "    </tr>\n",
       "    <tr>\n",
       "      <th>24</th>\n",
       "      <td>1999.0</td>\n",
       "      <td>11689358.0</td>\n",
       "    </tr>\n",
       "    <tr>\n",
       "      <th>25</th>\n",
       "      <td>2000.0</td>\n",
       "      <td>12064599.0</td>\n",
       "    </tr>\n",
       "    <tr>\n",
       "      <th>26</th>\n",
       "      <td>2001.0</td>\n",
       "      <td>12031996.0</td>\n",
       "    </tr>\n",
       "    <tr>\n",
       "      <th>27</th>\n",
       "      <td>2002.0</td>\n",
       "      <td>10594055.0</td>\n",
       "    </tr>\n",
       "    <tr>\n",
       "      <th>28</th>\n",
       "      <td>2003.0</td>\n",
       "      <td>9592795.0</td>\n",
       "    </tr>\n",
       "    <tr>\n",
       "      <th>29</th>\n",
       "      <td>2004.0</td>\n",
       "      <td>9229913.0</td>\n",
       "    </tr>\n",
       "    <tr>\n",
       "      <th>30</th>\n",
       "      <td>2005.0</td>\n",
       "      <td>8661988.0</td>\n",
       "    </tr>\n",
       "    <tr>\n",
       "      <th>31</th>\n",
       "      <td>2006.0</td>\n",
       "      <td>9877703.0</td>\n",
       "    </tr>\n",
       "    <tr>\n",
       "      <th>32</th>\n",
       "      <td>2007.0</td>\n",
       "      <td>9679646.0</td>\n",
       "    </tr>\n",
       "    <tr>\n",
       "      <th>33</th>\n",
       "      <td>2008.0</td>\n",
       "      <td>9050399.0</td>\n",
       "    </tr>\n",
       "    <tr>\n",
       "      <th>34</th>\n",
       "      <td>2009.0</td>\n",
       "      <td>8806865.0</td>\n",
       "    </tr>\n",
       "    <tr>\n",
       "      <th>35</th>\n",
       "      <td>2010.0</td>\n",
       "      <td>9952407.0</td>\n",
       "    </tr>\n",
       "    <tr>\n",
       "      <th>36</th>\n",
       "      <td>2011.0</td>\n",
       "      <td>9800860.0</td>\n",
       "    </tr>\n",
       "    <tr>\n",
       "      <th>37</th>\n",
       "      <td>2012.0</td>\n",
       "      <td>9878842.0</td>\n",
       "    </tr>\n",
       "    <tr>\n",
       "      <th>38</th>\n",
       "      <td>2013.0</td>\n",
       "      <td>11001936.0</td>\n",
       "    </tr>\n",
       "  </tbody>\n",
       "</table>\n",
       "</div>"
      ],
      "text/plain": [
       "      year         Sum\n",
       "0   1975.0   3529434.0\n",
       "1   1976.0   4270631.0\n",
       "2   1977.0   4518659.0\n",
       "3   1978.0   5065844.0\n",
       "4   1979.0   6279912.0\n",
       "5   1980.0   8454937.0\n",
       "6   1981.0   9714306.0\n",
       "7   1982.0  10319369.0\n",
       "8   1983.0  10620803.0\n",
       "9   1984.0  10728326.0\n",
       "10  1985.0  11864062.0\n",
       "11  1986.0  12633974.0\n",
       "12  1987.0  13128347.0\n",
       "13  1988.0  14347051.0\n",
       "14  1989.0  14732934.0\n",
       "15  1990.0  17395979.0\n",
       "16  1991.0  16854795.0\n",
       "17  1992.0  17838074.0\n",
       "18  1993.0  16325525.0\n",
       "19  1994.0  15753691.0\n",
       "20  1995.0  14896087.0\n",
       "21  1996.0  13357087.0\n",
       "22  1997.0  12015350.0\n",
       "23  1998.0  11480860.0\n",
       "24  1999.0  11689358.0\n",
       "25  2000.0  12064599.0\n",
       "26  2001.0  12031996.0\n",
       "27  2002.0  10594055.0\n",
       "28  2003.0   9592795.0\n",
       "29  2004.0   9229913.0\n",
       "30  2005.0   8661988.0\n",
       "31  2006.0   9877703.0\n",
       "32  2007.0   9679646.0\n",
       "33  2008.0   9050399.0\n",
       "34  2009.0   8806865.0\n",
       "35  2010.0   9952407.0\n",
       "36  2011.0   9800860.0\n",
       "37  2012.0   9878842.0\n",
       "38  2013.0  11001936.0"
      ]
     },
     "execution_count": 11,
     "metadata": {},
     "output_type": "execute_result"
    }
   ],
   "source": [
    "refugee_df"
   ]
  },
  {
   "cell_type": "code",
   "execution_count": 9,
   "metadata": {
    "collapsed": true
   },
   "outputs": [],
   "source": [
    "# import the matplotlib for plotting\n",
    "%matplotlib inline\n",
    "import matplotlib as mpl\n",
    "import matplotlib.pyplot as plt"
   ]
  },
  {
   "cell_type": "code",
   "execution_count": 10,
   "metadata": {
    "collapsed": false
   },
   "outputs": [
    {
     "data": {
      "text/plain": [
       "<matplotlib.collections.PathCollection at 0x1d1c3af1908>"
      ]
     },
     "execution_count": 10,
     "metadata": {},
     "output_type": "execute_result"
    },
    {
     "data": {
      "image/png": "[encoded data removed]",
      "text/plain": [
       "<matplotlib.figure.Figure at 0x1d1c3a510f0>"
      ]
     },
     "metadata": {},
     "output_type": "display_data"
    }
   ],
   "source": [
    "mpl.pyplot.scatter(refugee_df['year'], refugee_df['Sum'])"
   ]
  },
  {
   "cell_type": "markdown",
   "metadata": {},
   "source": [
    "### Linear Regression"
   ]
  },
  {
   "cell_type": "code",
   "execution_count": 76,
   "metadata": {
    "collapsed": false
   },
   "outputs": [
    {
     "name": "stdout",
     "output_type": "stream",
     "text": [
      "Number of observations: 39\n",
      "Number of features 2\n"
     ]
    }
   ],
   "source": [
    "# Dataframe \n",
    "print (\"Number of observations: {}\\nNumber of features {}\".\\\n",
    "    format(refugee_df.shape[0], refugee_df.shape[1]))"
   ]
  },
  {
   "cell_type": "code",
   "execution_count": 77,
   "metadata": {
    "collapsed": false
   },
   "outputs": [
    {
     "data": {
      "image/png": "[encoded data removed]",
      "text/plain": [
       "<matplotlib.figure.Figure at 0x201cbde9e48>"
      ]
     },
     "metadata": {},
     "output_type": "display_data"
    }
   ],
   "source": [
    "# plot\n",
    "refugee_df[['Sum']].plot(kind='hist');"
   ]
  },
  {
   "cell_type": "code",
   "execution_count": 78,
   "metadata": {
    "collapsed": true
   },
   "outputs": [],
   "source": [
    "from sklearn.linear_model import LinearRegression\n",
    "linear_regression_model = LinearRegression()"
   ]
  },
  {
   "cell_type": "code",
   "execution_count": 80,
   "metadata": {
    "collapsed": false
   },
   "outputs": [
    {
     "data": {
      "text/plain": [
       "LinearRegression(copy_X=True, fit_intercept=True, n_jobs=1, normalize=False)"
      ]
     },
     "execution_count": 80,
     "metadata": {},
     "output_type": "execute_result"
    }
   ],
   "source": [
    "# fit the model\n",
    "linear_regression_model.fit(refugee_df[['year']], refugee_df[['Sum']])"
   ]
  },
  {
   "cell_type": "code",
   "execution_count": 81,
   "metadata": {
    "collapsed": false
   },
   "outputs": [
    {
     "data": {
      "text/plain": [
       "array([ -1.07271588e+08])"
      ]
     },
     "execution_count": 81,
     "metadata": {},
     "output_type": "execute_result"
    }
   ],
   "source": [
    "# examine\n",
    "linear_regression_model.intercept_"
   ]
  },
  {
   "cell_type": "code",
   "execution_count": 82,
   "metadata": {
    "collapsed": false
   },
   "outputs": [
    {
     "data": {
      "text/plain": [
       "array([[ 59301.38259109]])"
      ]
     },
     "execution_count": 82,
     "metadata": {},
     "output_type": "execute_result"
    }
   ],
   "source": [
    "linear_regression_model.coef_"
   ]
  },
  {
   "cell_type": "code",
   "execution_count": 84,
   "metadata": {
    "collapsed": false
   },
   "outputs": [],
   "source": [
    "# Predict the data\n",
    "yhat = linear_regression_model.predict(refugee_df[['year']])"
   ]
  },
  {
   "cell_type": "code",
   "execution_count": 86,
   "metadata": {
    "collapsed": false
   },
   "outputs": [
    {
     "data": {
      "text/plain": [
       "Sum    1.150823e+13\n",
       "dtype: float64"
      ]
     },
     "execution_count": 86,
     "metadata": {},
     "output_type": "execute_result"
    }
   ],
   "source": [
    "((yhat-refugee_df[['Sum']])**2).mean()"
   ]
  },
  {
   "cell_type": "markdown",
   "metadata": {},
   "source": [
    "### Nearest Neighbors"
   ]
  },
  {
   "cell_type": "code",
   "execution_count": 87,
   "metadata": {
    "collapsed": true
   },
   "outputs": [],
   "source": [
    "from sklearn.neighbors import KNeighborsRegressor"
   ]
  },
  {
   "cell_type": "code",
   "execution_count": 89,
   "metadata": {
    "collapsed": true
   },
   "outputs": [],
   "source": [
    "# define the model\n",
    "nn_model = KNeighborsRegressor(n_neighbors=5)"
   ]
  },
  {
   "cell_type": "code",
   "execution_count": 91,
   "metadata": {
    "collapsed": false
   },
   "outputs": [
    {
     "data": {
      "text/plain": [
       "KNeighborsRegressor(algorithm='auto', leaf_size=30, metric='minkowski',\n",
       "          metric_params=None, n_jobs=1, n_neighbors=5, p=2,\n",
       "          weights='uniform')"
      ]
     },
     "execution_count": 91,
     "metadata": {},
     "output_type": "execute_result"
    }
   ],
   "source": [
    "# fit the model\n",
    "nn_model.fit(refugee_df[['year']],refugee_df[['Sum']])"
   ]
  },
  {
   "cell_type": "code",
   "execution_count": 92,
   "metadata": {
    "collapsed": true
   },
   "outputs": [],
   "source": [
    "yhat2 = nn_model.predict(refugee_df[['year']])"
   ]
  },
  {
   "cell_type": "code",
   "execution_count": 93,
   "metadata": {
    "collapsed": false
   },
   "outputs": [
    {
     "data": {
      "text/plain": [
       "Sum    10151.753846\n",
       "dtype: float64"
      ]
     },
     "execution_count": 93,
     "metadata": {},
     "output_type": "execute_result"
    }
   ],
   "source": [
    "(yhat2 - refugee_df[['Sum']]).mean()"
   ]
  },
  {
   "cell_type": "markdown",
   "metadata": {},
   "source": [
    "### Assesing model Accuracy"
   ]
  },
  {
   "cell_type": "code",
   "execution_count": 95,
   "metadata": {
    "collapsed": false
   },
   "outputs": [],
   "source": [
    "import seaborn as sns\n",
    "sns.set_style(\"white\")"
   ]
  },
  {
   "cell_type": "code",
   "execution_count": 97,
   "metadata": {
    "collapsed": true
   },
   "outputs": [],
   "source": [
    "# Let's split the training data into three components\n",
    "from sklearn.cross_validation import train_test_split"
   ]
  },
  {
   "cell_type": "code",
   "execution_count": 99,
   "metadata": {
    "collapsed": true
   },
   "outputs": [],
   "source": [
    "# split\n",
    "Year_train_validation, Year_test, Sum_train_validation, Sum_test = train_test_split(refugee_df[['year']],\\\n",
    "                                    refugee_df[['Sum']], test_size = 0.1, random_state = 0)"
   ]
  },
  {
   "cell_type": "code",
   "execution_count": 108,
   "metadata": {
    "collapsed": true
   },
   "outputs": [],
   "source": [
    "# split training into train and validation\n",
    "Year_train, Year_validation, Sum_train, Sum_validation = train_test_split(Year_train_validation, Sum_train_validation,\\\n",
    "                                                                     test_size = 0.2, random_state = 0)"
   ]
  },
  {
   "cell_type": "markdown",
   "metadata": {},
   "source": [
    "##### Model Fitting"
   ]
  },
  {
   "cell_type": "code",
   "execution_count": 103,
   "metadata": {
    "collapsed": true
   },
   "outputs": [],
   "source": [
    "model1 = LinearRegression().fit(Year_train, Sum_train) # fit"
   ]
  },
  {
   "cell_type": "code",
   "execution_count": 105,
   "metadata": {
    "collapsed": false
   },
   "outputs": [],
   "source": [
    "# Compute the MSE\n",
    "model1_train_err = ((model1.predict(Year_train) - Sum_train)**2).mean()[0]"
   ]
  },
  {
   "cell_type": "code",
   "execution_count": 107,
   "metadata": {
    "collapsed": false
   },
   "outputs": [
    {
     "data": {
      "text/plain": [
       "12289484957857.613"
      ]
     },
     "execution_count": 107,
     "metadata": {},
     "output_type": "execute_result"
    }
   ],
   "source": [
    "model1_train_err"
   ]
  },
  {
   "cell_type": "code",
   "execution_count": 109,
   "metadata": {
    "collapsed": true
   },
   "outputs": [],
   "source": [
    "# model validation\n",
    "model1_validation_err = ((model1.predict(Year_validation) - Sum_validation)**2).mean()[0]"
   ]
  },
  {
   "cell_type": "code",
   "execution_count": 110,
   "metadata": {
    "collapsed": false
   },
   "outputs": [
    {
     "data": {
      "text/plain": [
       "10681865733229.1"
      ]
     },
     "execution_count": 110,
     "metadata": {},
     "output_type": "execute_result"
    }
   ],
   "source": [
    "model1_validation_err"
   ]
  },
  {
   "cell_type": "code",
   "execution_count": 111,
   "metadata": {
    "collapsed": true
   },
   "outputs": [],
   "source": [
    "# model test\n",
    "model1_test_err = ((model1.predict(Year_test) - Sum_test)**2).mean()[0]"
   ]
  },
  {
   "cell_type": "code",
   "execution_count": 112,
   "metadata": {
    "collapsed": false
   },
   "outputs": [
    {
     "data": {
      "text/plain": [
       "9304928864640.666"
      ]
     },
     "execution_count": 112,
     "metadata": {},
     "output_type": "execute_result"
    }
   ],
   "source": [
    "model1_test_err"
   ]
  },
  {
   "cell_type": "markdown",
   "metadata": {},
   "source": [
    "## Random Forest"
   ]
  },
  {
   "cell_type": "code",
   "execution_count": 12,
   "metadata": {
    "collapsed": true
   },
   "outputs": [],
   "source": [
    "from sklearn.ensemble import RandomForestClassifier\n",
    "from numpy import genfromtxt, savetxt"
   ]
  },
  {
   "cell_type": "code",
   "execution_count": 14,
   "metadata": {
    "collapsed": false
   },
   "outputs": [],
   "source": [
    "# create and test data set\n",
    "train = refugee[1:52800]  # train\n",
    "test = refugee[52801:]    # test"
   ]
  },
  {
   "cell_type": "code",
   "execution_count": 23,
   "metadata": {
    "collapsed": false
   },
   "outputs": [],
   "source": [
    "X = train['Year']\n",
    "y = train['Refugees']\n",
    "\n",
    "X_list = train['Year'].tolist()\n",
    "y_list = train['Refugees'].tolist()"
   ]
  },
  {
   "cell_type": "code",
   "execution_count": 16,
   "metadata": {
    "collapsed": false
   },
   "outputs": [],
   "source": [
    "# Create a Random Forest classifier\n",
    "model_forest = RandomForestClassifier(n_estimators = 100)"
   ]
  },
  {
   "cell_type": "code",
   "execution_count": null,
   "metadata": {
    "collapsed": false
   },
   "outputs": [],
   "source": []
  },
  {
   "cell_type": "code",
   "execution_count": null,
   "metadata": {
    "collapsed": true
   },
   "outputs": [],
   "source": [
    "# fit the training data  to the survival labels and create a decision tree\n",
    "model_forest = forest.fit(X_list,y_list)"
   ]
  },
  {
   "cell_type": "code",
   "execution_count": null,
   "metadata": {
    "collapsed": true
   },
   "outputs": [],
   "source": []
  }
 ],
 "metadata": {
  "kernelspec": {
   "display_name": "Python 3",
   "language": "python",
   "name": "python3"
  },
  "language_info": {
   "codemirror_mode": {
    "name": "ipython",
    "version": 3
   },
   "file_extension": ".py",
   "mimetype": "text/x-python",
   "name": "python",
   "nbconvert_exporter": "python",
   "pygments_lexer": "ipython3",
   "version": "3.5.1"
  }
 },
 "nbformat": 4,
 "nbformat_minor": 0
}
